{
 "cells": [
  {
   "cell_type": "markdown",
   "metadata": {},
   "source": [
    "### Import modules"
   ]
  },
  {
   "cell_type": "code",
   "execution_count": 1,
   "metadata": {},
   "outputs": [],
   "source": [
    "import psycopg2\n",
    "import pandas as pd\n",
    "import numpy as np"
   ]
  },
  {
   "cell_type": "markdown",
   "metadata": {},
   "source": [
    "### Establish database connection"
   ]
  },
  {
   "cell_type": "code",
   "execution_count": 2,
   "metadata": {},
   "outputs": [],
   "source": [
    "def connect():\n",
    "    conn = None\n",
    "    try:\n",
    "        # connect to the PostgreSQL server\n",
    "        print('Connecting to the PostgreSQL database...')\n",
    "        conn = psycopg2.connect(host = \"localhost\",\n",
    "                                database = 'TennisATP',\n",
    "                                port = 5432,\n",
    "                                user = 'postgres',\n",
    "                                password = 'sachin@123')\n",
    "    \n",
    "    except (Exception, psycopg2.DatabaseError) as error:\n",
    "        print(error)\n",
    "    \n",
    "    return conn"
   ]
  },
  {
   "cell_type": "code",
   "execution_count": 3,
   "metadata": {},
   "outputs": [
    {
     "name": "stdout",
     "output_type": "stream",
     "text": [
      "Connecting to the PostgreSQL database...\n"
     ]
    },
    {
     "data": {
      "text/plain": [
       "<connection object at 0x00000186F6525E10; dsn: 'user=postgres password=xxx dbname=TennisATP host=localhost port=5432', closed: 0>"
      ]
     },
     "execution_count": 3,
     "metadata": {},
     "output_type": "execute_result"
    }
   ],
   "source": [
    "connect()"
   ]
  },
  {
   "cell_type": "markdown",
   "metadata": {},
   "source": [
    "### Read csv files"
   ]
  },
  {
   "cell_type": "code",
   "execution_count": 4,
   "metadata": {},
   "outputs": [
    {
     "data": {
      "text/html": [
       "<div>\n",
       "<style scoped>\n",
       "    .dataframe tbody tr th:only-of-type {\n",
       "        vertical-align: middle;\n",
       "    }\n",
       "\n",
       "    .dataframe tbody tr th {\n",
       "        vertical-align: top;\n",
       "    }\n",
       "\n",
       "    .dataframe thead th {\n",
       "        text-align: right;\n",
       "    }\n",
       "</style>\n",
       "<table border=\"1\" class=\"dataframe\">\n",
       "  <thead>\n",
       "    <tr style=\"text-align: right;\">\n",
       "      <th></th>\n",
       "      <th>Tournament_ID</th>\n",
       "      <th>Winner_ID</th>\n",
       "      <th>Loser_ID</th>\n",
       "      <th>Date</th>\n",
       "      <th>Score</th>\n",
       "      <th>Winner_Points</th>\n",
       "      <th>Loser_Points</th>\n",
       "    </tr>\n",
       "  </thead>\n",
       "  <tbody>\n",
       "    <tr>\n",
       "      <th>0</th>\n",
       "      <td>2019-M004</td>\n",
       "      <td>100644</td>\n",
       "      <td>200615</td>\n",
       "      <td>2019-02-25</td>\n",
       "      <td>6-3 6-3</td>\n",
       "      <td>6475.0</td>\n",
       "      <td>439.0</td>\n",
       "    </tr>\n",
       "    <tr>\n",
       "      <th>1</th>\n",
       "      <td>2019-0500</td>\n",
       "      <td>100644</td>\n",
       "      <td>104898</td>\n",
       "      <td>2019-06-17</td>\n",
       "      <td>6-4 7-5</td>\n",
       "      <td>4360.0</td>\n",
       "      <td>781.0</td>\n",
       "    </tr>\n",
       "    <tr>\n",
       "      <th>2</th>\n",
       "      <td>2019-0414</td>\n",
       "      <td>100644</td>\n",
       "      <td>111797</td>\n",
       "      <td>2019-07-22</td>\n",
       "      <td>6-4 6-2</td>\n",
       "      <td>4325.0</td>\n",
       "      <td>1135.0</td>\n",
       "    </tr>\n",
       "  </tbody>\n",
       "</table>\n",
       "</div>"
      ],
      "text/plain": [
       "  Tournament_ID  Winner_ID  Loser_ID        Date    Score  Winner_Points  \\\n",
       "0     2019-M004     100644    200615  2019-02-25  6-3 6-3         6475.0   \n",
       "1     2019-0500     100644    104898  2019-06-17  6-4 7-5         4360.0   \n",
       "2     2019-0414     100644    111797  2019-07-22  6-4 6-2         4325.0   \n",
       "\n",
       "   Loser_Points  \n",
       "0         439.0  \n",
       "1         781.0  \n",
       "2        1135.0  "
      ]
     },
     "execution_count": 4,
     "metadata": {},
     "output_type": "execute_result"
    }
   ],
   "source": [
    "match_stats_df = pd.read_csv(\"./csv files/Match Stats.csv\")\n",
    "match_stats_df.head(3)"
   ]
  },
  {
   "cell_type": "code",
   "execution_count": 5,
   "metadata": {},
   "outputs": [
    {
     "data": {
      "text/html": [
       "<div>\n",
       "<style scoped>\n",
       "    .dataframe tbody tr th:only-of-type {\n",
       "        vertical-align: middle;\n",
       "    }\n",
       "\n",
       "    .dataframe tbody tr th {\n",
       "        vertical-align: top;\n",
       "    }\n",
       "\n",
       "    .dataframe thead th {\n",
       "        text-align: right;\n",
       "    }\n",
       "</style>\n",
       "<table border=\"1\" class=\"dataframe\">\n",
       "  <thead>\n",
       "    <tr style=\"text-align: right;\">\n",
       "      <th></th>\n",
       "      <th>Player_ID</th>\n",
       "      <th>Player_Name</th>\n",
       "      <th>Player_Location</th>\n",
       "      <th>Player_Height</th>\n",
       "      <th>Player_Hand</th>\n",
       "    </tr>\n",
       "  </thead>\n",
       "  <tbody>\n",
       "    <tr>\n",
       "      <th>0</th>\n",
       "      <td>105173</td>\n",
       "      <td>Adrian Mannarino</td>\n",
       "      <td>FRA</td>\n",
       "      <td>183.0</td>\n",
       "      <td>L</td>\n",
       "    </tr>\n",
       "    <tr>\n",
       "      <th>1</th>\n",
       "      <td>105077</td>\n",
       "      <td>Albert Ramos</td>\n",
       "      <td>ESP</td>\n",
       "      <td>188.0</td>\n",
       "      <td>L</td>\n",
       "    </tr>\n",
       "    <tr>\n",
       "      <th>2</th>\n",
       "      <td>200221</td>\n",
       "      <td>Alejandro Davidovich Fokina</td>\n",
       "      <td>ESP</td>\n",
       "      <td>183.0</td>\n",
       "      <td>R</td>\n",
       "    </tr>\n",
       "  </tbody>\n",
       "</table>\n",
       "</div>"
      ],
      "text/plain": [
       "   Player_ID                  Player_Name Player_Location  Player_Height  \\\n",
       "0     105173             Adrian Mannarino             FRA          183.0   \n",
       "1     105077                 Albert Ramos             ESP          188.0   \n",
       "2     200221  Alejandro Davidovich Fokina             ESP          183.0   \n",
       "\n",
       "  Player_Hand  \n",
       "0           L  \n",
       "1           L  \n",
       "2           R  "
      ]
     },
     "execution_count": 5,
     "metadata": {},
     "output_type": "execute_result"
    }
   ],
   "source": [
    "player_details_df = pd.read_csv(\"./csv files/Player Details.csv\")\n",
    "player_details_df.head(3)"
   ]
  },
  {
   "cell_type": "code",
   "execution_count": 6,
   "metadata": {},
   "outputs": [
    {
     "data": {
      "text/html": [
       "<div>\n",
       "<style scoped>\n",
       "    .dataframe tbody tr th:only-of-type {\n",
       "        vertical-align: middle;\n",
       "    }\n",
       "\n",
       "    .dataframe tbody tr th {\n",
       "        vertical-align: top;\n",
       "    }\n",
       "\n",
       "    .dataframe thead th {\n",
       "        text-align: right;\n",
       "    }\n",
       "</style>\n",
       "<table border=\"1\" class=\"dataframe\">\n",
       "  <thead>\n",
       "    <tr style=\"text-align: right;\">\n",
       "      <th></th>\n",
       "      <th>tourney_id</th>\n",
       "      <th>w_ace</th>\n",
       "      <th>w_df</th>\n",
       "      <th>w_svpt</th>\n",
       "      <th>w_SvGms</th>\n",
       "      <th>w_bpSaved</th>\n",
       "      <th>w_bpFaced</th>\n",
       "      <th>l_ace</th>\n",
       "      <th>l_df</th>\n",
       "      <th>l_svpt</th>\n",
       "      <th>l_SvGms</th>\n",
       "      <th>l_bpSaved</th>\n",
       "      <th>l_bpFaced</th>\n",
       "    </tr>\n",
       "  </thead>\n",
       "  <tbody>\n",
       "    <tr>\n",
       "      <th>0</th>\n",
       "      <td>2019-0301</td>\n",
       "      <td>176.0</td>\n",
       "      <td>60.0</td>\n",
       "      <td>1727.0</td>\n",
       "      <td>271.0</td>\n",
       "      <td>77.0</td>\n",
       "      <td>101.0</td>\n",
       "      <td>146.0</td>\n",
       "      <td>75.0</td>\n",
       "      <td>1737.0</td>\n",
       "      <td>265.0</td>\n",
       "      <td>113.0</td>\n",
       "      <td>184.0</td>\n",
       "    </tr>\n",
       "    <tr>\n",
       "      <th>1</th>\n",
       "      <td>2019-0308</td>\n",
       "      <td>100.0</td>\n",
       "      <td>36.0</td>\n",
       "      <td>1712.0</td>\n",
       "      <td>265.0</td>\n",
       "      <td>104.0</td>\n",
       "      <td>142.0</td>\n",
       "      <td>76.0</td>\n",
       "      <td>58.0</td>\n",
       "      <td>1713.0</td>\n",
       "      <td>265.0</td>\n",
       "      <td>102.0</td>\n",
       "      <td>194.0</td>\n",
       "    </tr>\n",
       "    <tr>\n",
       "      <th>2</th>\n",
       "      <td>2019-0311</td>\n",
       "      <td>292.0</td>\n",
       "      <td>98.0</td>\n",
       "      <td>2309.0</td>\n",
       "      <td>369.0</td>\n",
       "      <td>89.0</td>\n",
       "      <td>119.0</td>\n",
       "      <td>228.0</td>\n",
       "      <td>93.0</td>\n",
       "      <td>2409.0</td>\n",
       "      <td>367.0</td>\n",
       "      <td>134.0</td>\n",
       "      <td>214.0</td>\n",
       "    </tr>\n",
       "  </tbody>\n",
       "</table>\n",
       "</div>"
      ],
      "text/plain": [
       "  tourney_id  w_ace  w_df  w_svpt  w_SvGms  w_bpSaved  w_bpFaced  l_ace  l_df  \\\n",
       "0  2019-0301  176.0  60.0  1727.0    271.0       77.0      101.0  146.0  75.0   \n",
       "1  2019-0308  100.0  36.0  1712.0    265.0      104.0      142.0   76.0  58.0   \n",
       "2  2019-0311  292.0  98.0  2309.0    369.0       89.0      119.0  228.0  93.0   \n",
       "\n",
       "   l_svpt  l_SvGms  l_bpSaved  l_bpFaced  \n",
       "0  1737.0    265.0      113.0      184.0  \n",
       "1  1713.0    265.0      102.0      194.0  \n",
       "2  2409.0    367.0      134.0      214.0  "
      ]
     },
     "execution_count": 6,
     "metadata": {},
     "output_type": "execute_result"
    }
   ],
   "source": [
    "tournament_stats_df = pd.read_csv(\"./csv files/Tournament Stats.csv\")\n",
    "tournament_stats_df.head(3)"
   ]
  },
  {
   "cell_type": "code",
   "execution_count": 7,
   "metadata": {},
   "outputs": [
    {
     "data": {
      "text/html": [
       "<div>\n",
       "<style scoped>\n",
       "    .dataframe tbody tr th:only-of-type {\n",
       "        vertical-align: middle;\n",
       "    }\n",
       "\n",
       "    .dataframe tbody tr th {\n",
       "        vertical-align: top;\n",
       "    }\n",
       "\n",
       "    .dataframe thead th {\n",
       "        text-align: right;\n",
       "    }\n",
       "</style>\n",
       "<table border=\"1\" class=\"dataframe\">\n",
       "  <thead>\n",
       "    <tr style=\"text-align: right;\">\n",
       "      <th></th>\n",
       "      <th>Tournament_ID</th>\n",
       "      <th>Tournament_Name</th>\n",
       "      <th>Surface</th>\n",
       "      <th>Year</th>\n",
       "    </tr>\n",
       "  </thead>\n",
       "  <tbody>\n",
       "    <tr>\n",
       "      <th>0</th>\n",
       "      <td>2020-6932</td>\n",
       "      <td>ATP Rio de Janeiro</td>\n",
       "      <td>Clay</td>\n",
       "      <td>2020</td>\n",
       "    </tr>\n",
       "    <tr>\n",
       "      <th>1</th>\n",
       "      <td>2019-M004</td>\n",
       "      <td>Acapulco</td>\n",
       "      <td>Hard</td>\n",
       "      <td>2019</td>\n",
       "    </tr>\n",
       "    <tr>\n",
       "      <th>2</th>\n",
       "      <td>2020-M004</td>\n",
       "      <td>Acapulco</td>\n",
       "      <td>Hard</td>\n",
       "      <td>2020</td>\n",
       "    </tr>\n",
       "  </tbody>\n",
       "</table>\n",
       "</div>"
      ],
      "text/plain": [
       "  Tournament_ID     Tournament_Name Surface  Year\n",
       "0     2020-6932  ATP Rio de Janeiro    Clay  2020\n",
       "1     2019-M004            Acapulco    Hard  2019\n",
       "2     2020-M004            Acapulco    Hard  2020"
      ]
     },
     "execution_count": 7,
     "metadata": {},
     "output_type": "execute_result"
    }
   ],
   "source": [
    "tournament_details_df = pd.read_csv(\"./csv files/Tournament_Details.csv\")\n",
    "tournament_details_df.head(3)"
   ]
  },
  {
   "cell_type": "markdown",
   "metadata": {},
   "source": [
    "### Create tables"
   ]
  },
  {
   "cell_type": "code",
   "execution_count": 13,
   "metadata": {},
   "outputs": [],
   "source": [
    "sql_create_table = [\"create table player (player_id integer primary key not null, name varchar(50), location varchar(5), height float(5), hand char(2));\",\n",
    "                    \"create table tournament (tournament_id varchar(50) primary key not null, name varchar(50), surface varchar(10), year integer);\",\n",
    "                    \"create table match_stats (tournament_id varchar(50), winner_id integer, loser_id integer, date varchar(20), score varchar(50), winner_points float(10), loser_points float(10), foreign key (tournament_id) references tournament(tournament_id), foreign key (winner_id) references player(player_id), foreign key (loser_id) references player(player_id));\",\n",
    "                    \"create table tournament_stats (tournament_id varchar(50), w_ace float(10), w_df float(10), w_svpt float(10), w_SvGms float(10), w_bpSaved float(10), w_bpFaced float(10), l_ace float(10), l_df float(10), l_svpt float(10), l_SvGms float(10), l_bpSaved float(10), l_bpFaced float(10), foreign key (tournament_id) references tournament(tournament_id));\"]\n",
    "\n",
    "def create_table(conn, sql_q):\n",
    "    cur = conn.cursor()\n",
    "\n",
    "    for sql in sql_q:\n",
    "        cur.execute(sql)\n",
    "\n",
    "    conn.commit()\n",
    "    cur.close\n",
    "    print(\"Tables created\")"
   ]
  },
  {
   "cell_type": "code",
   "execution_count": 14,
   "metadata": {},
   "outputs": [
    {
     "name": "stdout",
     "output_type": "stream",
     "text": [
      "Connecting to the PostgreSQL database...\n",
      "Tables created\n"
     ]
    }
   ],
   "source": [
    "conn = connect()\n",
    "create_table(conn, sql_q = sql_create_table)\n",
    "conn.close()"
   ]
  },
  {
   "cell_type": "code",
   "execution_count": 15,
   "metadata": {},
   "outputs": [
    {
     "name": "stdout",
     "output_type": "stream",
     "text": [
      "Connecting to the PostgreSQL database...\n"
     ]
    }
   ],
   "source": [
    "sql_insert_table = [\"insert into player values (%s, %s, %s, %s, %s)\",\n",
    "                    \"insert into tournament values (%s, %s, %s, %s)\",\n",
    "                    \"insert into match_stats values (%s, %s, %s, %s, %s, %s, %s)\",\n",
    "                    \"insert into tournament_stats values (%s, %s, %s, %s, %s, %s, %s, %s, %s, %s, %s, %s, %s)\"]\n",
    "conn = connect()\n",
    "cur = conn.cursor()"
   ]
  },
  {
   "cell_type": "markdown",
   "metadata": {},
   "source": [
    "### Insert into player table"
   ]
  },
  {
   "cell_type": "code",
   "execution_count": null,
   "metadata": {},
   "outputs": [],
   "source": [
    "# Insert into player table.\n",
    "player_records = player_details_df.to_numpy().tolist()\n",
    "player_result = [tuple(r) for r in player_records]\n",
    "cur.executemany(sql_insert_table[0], player_result)"
   ]
  },
  {
   "cell_type": "markdown",
   "metadata": {},
   "source": [
    "### Insert into tournament table"
   ]
  },
  {
   "cell_type": "code",
   "execution_count": null,
   "metadata": {},
   "outputs": [],
   "source": [
    "# insert into tournament table.\n",
    "tournament_records = tournament_details_df.to_numpy().tolist()\n",
    "tournament_result = [tuple(r) for r in tournament_records]\n",
    "cur.executemany(sql_insert_table[1], tournament_result)"
   ]
  },
  {
   "cell_type": "markdown",
   "metadata": {},
   "source": [
    "### Insert into match_stats table"
   ]
  },
  {
   "cell_type": "code",
   "execution_count": null,
   "metadata": {},
   "outputs": [],
   "source": [
    "matchstats_records = match_stats_df.to_numpy().tolist()\n",
    "matchstats_result = [tuple(r) for r in matchstats_records]\n",
    "cur.executemany(sql_insert_table[2], matchstats_result)"
   ]
  },
  {
   "cell_type": "markdown",
   "metadata": {},
   "source": [
    "### Insert into tournament_stats"
   ]
  },
  {
   "cell_type": "code",
   "execution_count": null,
   "metadata": {},
   "outputs": [],
   "source": [
    "tstats_records = tournament_stats_df.to_numpy().tolist()\n",
    "tstats_result = [tuple(r) for r in tstats_records]\n",
    "cur.executemany(sql_insert_table[3], tstats_result)"
   ]
  },
  {
   "cell_type": "code",
   "execution_count": null,
   "metadata": {},
   "outputs": [],
   "source": [
    "conn.commit()\n",
    "cur.close\n",
    "conn.close()"
   ]
  },
  {
   "cell_type": "code",
   "execution_count": null,
   "metadata": {},
   "outputs": [],
   "source": []
  }
 ],
 "metadata": {
  "interpreter": {
   "hash": "9f7cd4a032357cee79ce7059b7758f9c5aa995e9cd3eea18c8a9dd6a7286ed82"
  },
  "kernelspec": {
   "display_name": "Python 3.9.7 ('ub_dl')",
   "language": "python",
   "name": "python3"
  },
  "language_info": {
   "codemirror_mode": {
    "name": "ipython",
    "version": 3
   },
   "file_extension": ".py",
   "mimetype": "text/x-python",
   "name": "python",
   "nbconvert_exporter": "python",
   "pygments_lexer": "ipython3",
   "version": "3.9.7"
  },
  "orig_nbformat": 4
 },
 "nbformat": 4,
 "nbformat_minor": 2
}
